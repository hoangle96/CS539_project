{
 "cells": [
  {
   "cell_type": "code",
   "execution_count": 1,
   "metadata": {},
   "outputs": [],
   "source": [
    "import itertools\n",
    "from multiprocessing import cpu_count, Pool\n",
    "import pickle\n",
    "from collections import Counter\n",
    "import random\n",
    "\n",
    "import numpy as np\n",
    "import pandas as pd\n",
    "import matplotlib.pyplot as plt\n",
    "\n",
    "from torchtext import data\n",
    "from nltk.tokenize import word_tokenize\n",
    "from gensim.models.word2vec import Word2Vec\n",
    "from tqdm import tqdm\n",
    "from joblib import Parallel, delayed"
   ]
  },
  {
   "cell_type": "code",
   "execution_count": 2,
   "metadata": {},
   "outputs": [],
   "source": [
    "with open('../Sentiment-and-Style-Transfer/data/yelp/sentiment.train.0', 'rt') as in_f:\n",
    "    sentences = in_f.readlines()\n",
    "with open('../Sentiment-and-Style-Transfer/data/yelp/sentiment.train.1', 'rt') as in_f:\n",
    "    sentences.extend(in_f.readlines())"
   ]
  },
  {
   "cell_type": "code",
   "execution_count": 3,
   "metadata": {},
   "outputs": [],
   "source": [
    "df = pd.DataFrame({0: sentences})\n",
    "df = df.sample(frac=1.0)"
   ]
  },
  {
   "cell_type": "code",
   "execution_count": 4,
   "metadata": {},
   "outputs": [],
   "source": [
    "with open('../Sentiment-and-Style-Transfer/data/yelp/sentiment.train', 'wt') as out_f:\n",
    "    for sen in list(df[0]):\n",
    "        out_f.write(sen)"
   ]
  },
  {
   "cell_type": "code",
   "execution_count": 6,
   "metadata": {},
   "outputs": [
    {
     "name": "stdout",
     "output_type": "stream",
     "text": [
      "Word2Vec(vocab=9349, size=300, alpha=0.025)\n",
      "Vocab size: 9349\n"
     ]
    }
   ],
   "source": [
    "# train model\n",
    "model = Word2Vec(corpus_file='../Sentiment-and-Style-Transfer/data/yelp/sentiment.train', min_count=5, workers=8, window=5, size=300, sg=1)\n",
    "# summarize the loaded model\n",
    "print(model)\n",
    "# summarize vocabulary\n",
    "words = list(model.wv.vocab)\n",
    "print('Vocab size: %s' % len(words))\n",
    "\n",
    "# save model\n",
    "model.save('output/wv.yelp.bin')"
   ]
  },
  {
   "cell_type": "code",
   "execution_count": null,
   "metadata": {},
   "outputs": [],
   "source": [
    "new_model = Word2Vec.load('output/wv.bin')\n",
    "print(new_model)"
   ]
  },
  {
   "cell_type": "code",
   "execution_count": null,
   "metadata": {},
   "outputs": [],
   "source": [
    "def export_wv(path_to_file, wv):\n",
    "    vocabs = list(wv.vocab.keys())\n",
    "    vector_size = wv[vocabs[0]].shape[0]\n",
    "    with open(path_to_file, 'wt') as out:\n",
    "        out.write('{} {}\\n'.format(len(vocabs), vector_size))\n",
    "        for vocab in tqdm(vocabs):\n",
    "            vec = ' '.join([str(item) for item in wv[vocab]])\n",
    "            out.write('{} {}\\n'.format(vocab, vec))\n",
    "            \n",
    "wv = new_model.wv\n",
    "export_wv('./output/wv.vec', wv)"
   ]
  }
 ],
 "metadata": {
  "kernelspec": {
   "display_name": "Python 3",
   "language": "python",
   "name": "python3"
  },
  "language_info": {
   "codemirror_mode": {
    "name": "ipython",
    "version": 3
   },
   "file_extension": ".py",
   "mimetype": "text/x-python",
   "name": "python",
   "nbconvert_exporter": "python",
   "pygments_lexer": "ipython3",
   "version": "3.8.5"
  }
 },
 "nbformat": 4,
 "nbformat_minor": 4
}
