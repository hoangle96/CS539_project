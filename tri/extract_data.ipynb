{
 "cells": [
  {
   "cell_type": "code",
   "execution_count": 16,
   "metadata": {},
   "outputs": [],
   "source": [
    "import gzip\n",
    "import simplejson\n",
    "import pandas as pd\n",
    "from tqdm import tqdm"
   ]
  },
  {
   "cell_type": "code",
   "execution_count": 11,
   "metadata": {},
   "outputs": [],
   "source": [
    "# From http://snap.stanford.edu/data/web-Amazon-links.html\n",
    "def parse(filename):\n",
    "  f = gzip.open(filename, 'rt')\n",
    "  entry = {}\n",
    "  for l in f:\n",
    "    l = l.strip()\n",
    "    colonPos = l.find(':')\n",
    "    if colonPos == -1:\n",
    "      yield entry\n",
    "      entry = {}\n",
    "      continue\n",
    "    eName = l[:colonPos]\n",
    "    rest = l[colonPos+2:]\n",
    "    entry[eName] = rest\n",
    "  yield entry\n"
   ]
  },
  {
   "cell_type": "code",
   "execution_count": 44,
   "metadata": {},
   "outputs": [
    {
     "name": "stdout",
     "output_type": "stream",
     "text": [
      "5\n"
     ]
    }
   ],
   "source": [
    "print(5)"
   ]
  },
  {
   "cell_type": "code",
   "execution_count": 46,
   "metadata": {},
   "outputs": [
    {
     "name": "stdout",
     "output_type": "stream",
     "text": [
      "0\n",
      "1000000\n",
      "2000000\n",
      "3000000\n",
      "4000000\n",
      "5000000\n",
      "6000000\n",
      "7000000\n",
      "8000000\n",
      "9000000\n"
     ]
    }
   ],
   "source": [
    "reviews = []\n",
    "for idx, item in enumerate(parse(\"data/all.txt.gz\")):\n",
    "    reviews.append(item)\n",
    "    if idx == 10000000:\n",
    "        break\n",
    "    if idx % 1000000 == 0:\n",
    "        print(idx)"
   ]
  },
  {
   "cell_type": "code",
   "execution_count": 47,
   "metadata": {},
   "outputs": [
    {
     "data": {
      "text/plain": [
       "10000001"
      ]
     },
     "execution_count": 47,
     "metadata": {},
     "output_type": "execute_result"
    }
   ],
   "source": [
    "len(reviews)"
   ]
  },
  {
   "cell_type": "code",
   "execution_count": 48,
   "metadata": {},
   "outputs": [],
   "source": [
    "df = pd.DataFrame(reviews)"
   ]
  },
  {
   "cell_type": "code",
   "execution_count": 49,
   "metadata": {},
   "outputs": [
    {
     "data": {
      "text/html": [
       "<div>\n",
       "<style scoped>\n",
       "    .dataframe tbody tr th:only-of-type {\n",
       "        vertical-align: middle;\n",
       "    }\n",
       "\n",
       "    .dataframe tbody tr th {\n",
       "        vertical-align: top;\n",
       "    }\n",
       "\n",
       "    .dataframe thead th {\n",
       "        text-align: right;\n",
       "    }\n",
       "</style>\n",
       "<table border=\"1\" class=\"dataframe\">\n",
       "  <thead>\n",
       "    <tr style=\"text-align: right;\">\n",
       "      <th></th>\n",
       "      <th>product/productId</th>\n",
       "      <th>product/title</th>\n",
       "      <th>product/price</th>\n",
       "      <th>review/userId</th>\n",
       "      <th>review/profileName</th>\n",
       "      <th>review/helpfulness</th>\n",
       "      <th>review/score</th>\n",
       "      <th>review/time</th>\n",
       "      <th>review/summary</th>\n",
       "      <th>review/text</th>\n",
       "    </tr>\n",
       "  </thead>\n",
       "  <tbody>\n",
       "    <tr>\n",
       "      <th>0</th>\n",
       "      <td>B000179R3I</td>\n",
       "      <td>Amazon.com: Austin Reed Dartmouth Jacket In Ba...</td>\n",
       "      <td>unknown</td>\n",
       "      <td>A3Q0VJTUO4EZ56</td>\n",
       "      <td>Jeanmarie Kabala \"JP Kabala\"</td>\n",
       "      <td>7/7</td>\n",
       "      <td>4.0</td>\n",
       "      <td>1182816000</td>\n",
       "      <td>Periwinkle Dartmouth Blazer</td>\n",
       "      <td>I own the Austin Reed dartmouth blazer in ever...</td>\n",
       "    </tr>\n",
       "    <tr>\n",
       "      <th>1</th>\n",
       "      <td>B000GKXY34</td>\n",
       "      <td>Nun Chuck, Novelty Nun Toss Toy</td>\n",
       "      <td>17.99</td>\n",
       "      <td>ADX8VLDUOL7BG</td>\n",
       "      <td>M. Gingras</td>\n",
       "      <td>0/0</td>\n",
       "      <td>5.0</td>\n",
       "      <td>1262304000</td>\n",
       "      <td>Great fun!</td>\n",
       "      <td>Got these last Christmas as a gag gift. They a...</td>\n",
       "    </tr>\n",
       "    <tr>\n",
       "      <th>2</th>\n",
       "      <td>B000GKXY34</td>\n",
       "      <td>Nun Chuck, Novelty Nun Toss Toy</td>\n",
       "      <td>17.99</td>\n",
       "      <td>A3NM6P6BIWTIAE</td>\n",
       "      <td>Maria Carpenter</td>\n",
       "      <td>0/1</td>\n",
       "      <td>3.0</td>\n",
       "      <td>1224633600</td>\n",
       "      <td>more like funchuck</td>\n",
       "      <td>Gave this to my dad for a gag gift after direc...</td>\n",
       "    </tr>\n",
       "    <tr>\n",
       "      <th>3</th>\n",
       "      <td>1882931173</td>\n",
       "      <td>Its Only Art If Its Well Hung!</td>\n",
       "      <td>unknown</td>\n",
       "      <td>AVCGYZL8FQQTD</td>\n",
       "      <td>Jim of Oz \"jim-of-oz\"</td>\n",
       "      <td>7/7</td>\n",
       "      <td>4.0</td>\n",
       "      <td>940636800</td>\n",
       "      <td>Nice collection of Julie Strain images</td>\n",
       "      <td>This is only for Julie Strain fans. It's a col...</td>\n",
       "    </tr>\n",
       "    <tr>\n",
       "      <th>4</th>\n",
       "      <td>B00002066I</td>\n",
       "      <td>ah</td>\n",
       "      <td>15.99</td>\n",
       "      <td>unknown</td>\n",
       "      <td>unknown</td>\n",
       "      <td>3/4</td>\n",
       "      <td>5.0</td>\n",
       "      <td>939772800</td>\n",
       "      <td>Inspiring</td>\n",
       "      <td>I hope a lot of people hear this cd. We need m...</td>\n",
       "    </tr>\n",
       "  </tbody>\n",
       "</table>\n",
       "</div>"
      ],
      "text/plain": [
       "  product/productId                                      product/title  \\\n",
       "0        B000179R3I  Amazon.com: Austin Reed Dartmouth Jacket In Ba...   \n",
       "1        B000GKXY34                    Nun Chuck, Novelty Nun Toss Toy   \n",
       "2        B000GKXY34                    Nun Chuck, Novelty Nun Toss Toy   \n",
       "3        1882931173                     Its Only Art If Its Well Hung!   \n",
       "4        B00002066I                                                 ah   \n",
       "\n",
       "  product/price   review/userId            review/profileName  \\\n",
       "0       unknown  A3Q0VJTUO4EZ56  Jeanmarie Kabala \"JP Kabala\"   \n",
       "1         17.99   ADX8VLDUOL7BG                    M. Gingras   \n",
       "2         17.99  A3NM6P6BIWTIAE               Maria Carpenter   \n",
       "3       unknown   AVCGYZL8FQQTD         Jim of Oz \"jim-of-oz\"   \n",
       "4         15.99         unknown                       unknown   \n",
       "\n",
       "  review/helpfulness review/score review/time  \\\n",
       "0                7/7          4.0  1182816000   \n",
       "1                0/0          5.0  1262304000   \n",
       "2                0/1          3.0  1224633600   \n",
       "3                7/7          4.0   940636800   \n",
       "4                3/4          5.0   939772800   \n",
       "\n",
       "                           review/summary  \\\n",
       "0             Periwinkle Dartmouth Blazer   \n",
       "1                              Great fun!   \n",
       "2                      more like funchuck   \n",
       "3  Nice collection of Julie Strain images   \n",
       "4                               Inspiring   \n",
       "\n",
       "                                         review/text  \n",
       "0  I own the Austin Reed dartmouth blazer in ever...  \n",
       "1  Got these last Christmas as a gag gift. They a...  \n",
       "2  Gave this to my dad for a gag gift after direc...  \n",
       "3  This is only for Julie Strain fans. It's a col...  \n",
       "4  I hope a lot of people hear this cd. We need m...  "
      ]
     },
     "execution_count": 49,
     "metadata": {},
     "output_type": "execute_result"
    }
   ],
   "source": [
    "df.head()"
   ]
  },
  {
   "cell_type": "code",
   "execution_count": 50,
   "metadata": {},
   "outputs": [],
   "source": [
    "df['review/score'] = df['review/score'].map(lambda x: float(x))"
   ]
  },
  {
   "cell_type": "code",
   "execution_count": 51,
   "metadata": {},
   "outputs": [
    {
     "data": {
      "text/plain": [
       "<AxesSubplot:ylabel='Frequency'>"
      ]
     },
     "execution_count": 51,
     "metadata": {},
     "output_type": "execute_result"
    },
    {
     "data": {
      "image/png": "[encoded data removed]",
      "text/plain": [
       "<Figure size 432x288 with 1 Axes>"
      ]
     },
     "metadata": {
      "needs_background": "light"
     },
     "output_type": "display_data"
    }
   ],
   "source": [
    "df[['review/score']].plot.hist()"
   ]
  },
  {
   "cell_type": "code",
   "execution_count": 52,
   "metadata": {},
   "outputs": [
    {
     "name": "stdout",
     "output_type": "stream",
     "text": [
      "Negative: 1295956\n",
      "Positive: 7872295\n"
     ]
    }
   ],
   "source": [
    "df_neg = df[df['review/score']<3]\n",
    "df_pos = df[df['review/score']>3]\n",
    "print('Negative: %s' % df_neg.shape[0])\n",
    "print('Positive: %s' % df_pos.shape[0])"
   ]
  },
  {
   "cell_type": "code",
   "execution_count": 54,
   "metadata": {},
   "outputs": [
    {
     "data": {
      "text/html": [
       "<div>\n",
       "<style scoped>\n",
       "    .dataframe tbody tr th:only-of-type {\n",
       "        vertical-align: middle;\n",
       "    }\n",
       "\n",
       "    .dataframe tbody tr th {\n",
       "        vertical-align: top;\n",
       "    }\n",
       "\n",
       "    .dataframe thead th {\n",
       "        text-align: right;\n",
       "    }\n",
       "</style>\n",
       "<table border=\"1\" class=\"dataframe\">\n",
       "  <thead>\n",
       "    <tr style=\"text-align: right;\">\n",
       "      <th></th>\n",
       "      <th>product/productId</th>\n",
       "      <th>product/title</th>\n",
       "      <th>product/price</th>\n",
       "      <th>review/userId</th>\n",
       "      <th>review/profileName</th>\n",
       "      <th>review/helpfulness</th>\n",
       "      <th>review/score</th>\n",
       "      <th>review/time</th>\n",
       "      <th>review/summary</th>\n",
       "      <th>review/text</th>\n",
       "    </tr>\n",
       "  </thead>\n",
       "  <tbody>\n",
       "    <tr>\n",
       "      <th>77</th>\n",
       "      <td>0595344550</td>\n",
       "      <td>Whispers of the Wicked Saints</td>\n",
       "      <td>10.95</td>\n",
       "      <td>A3Q12RK71N74LB</td>\n",
       "      <td>Book Reader</td>\n",
       "      <td>7/11</td>\n",
       "      <td>1.0</td>\n",
       "      <td>1117065600</td>\n",
       "      <td>not good</td>\n",
       "      <td>I bought this book because I read some glowing...</td>\n",
       "    </tr>\n",
       "    <tr>\n",
       "      <th>79</th>\n",
       "      <td>0595344550</td>\n",
       "      <td>Whispers of the Wicked Saints</td>\n",
       "      <td>10.95</td>\n",
       "      <td>AUR0VA5H0C66C</td>\n",
       "      <td>LoveToRead \"Actually Read Books\"</td>\n",
       "      <td>1/2</td>\n",
       "      <td>1.0</td>\n",
       "      <td>1119225600</td>\n",
       "      <td>Buyer beware</td>\n",
       "      <td>This is a self-published book, and if you want...</td>\n",
       "    </tr>\n",
       "    <tr>\n",
       "      <th>90</th>\n",
       "      <td>0595344550</td>\n",
       "      <td>Whispers of the Wicked Saints</td>\n",
       "      <td>10.95</td>\n",
       "      <td>A1P2KGE2Z8RTA</td>\n",
       "      <td>C. Robertson</td>\n",
       "      <td>0/0</td>\n",
       "      <td>1.0</td>\n",
       "      <td>1119916800</td>\n",
       "      <td>The Worst!</td>\n",
       "      <td>A complete waste of time. Typographical errors...</td>\n",
       "    </tr>\n",
       "    <tr>\n",
       "      <th>100</th>\n",
       "      <td>0595344550</td>\n",
       "      <td>Whispers of the Wicked Saints</td>\n",
       "      <td>10.95</td>\n",
       "      <td>A3OS2QHEH495TD</td>\n",
       "      <td>PW</td>\n",
       "      <td>5/5</td>\n",
       "      <td>1.0</td>\n",
       "      <td>1115856000</td>\n",
       "      <td>Oh please</td>\n",
       "      <td>I guess you have to be a romance novel lover f...</td>\n",
       "    </tr>\n",
       "    <tr>\n",
       "      <th>101</th>\n",
       "      <td>0595344550</td>\n",
       "      <td>Whispers of the Wicked Saints</td>\n",
       "      <td>10.95</td>\n",
       "      <td>A3S5YQQWBO0LGI</td>\n",
       "      <td>N. Ray</td>\n",
       "      <td>4/4</td>\n",
       "      <td>1.0</td>\n",
       "      <td>1119571200</td>\n",
       "      <td>Awful beyond belief!</td>\n",
       "      <td>I feel I have to write to keep others from was...</td>\n",
       "    </tr>\n",
       "  </tbody>\n",
       "</table>\n",
       "</div>"
      ],
      "text/plain": [
       "    product/productId                  product/title product/price  \\\n",
       "77         0595344550  Whispers of the Wicked Saints         10.95   \n",
       "79         0595344550  Whispers of the Wicked Saints         10.95   \n",
       "90         0595344550  Whispers of the Wicked Saints         10.95   \n",
       "100        0595344550  Whispers of the Wicked Saints         10.95   \n",
       "101        0595344550  Whispers of the Wicked Saints         10.95   \n",
       "\n",
       "      review/userId                review/profileName review/helpfulness  \\\n",
       "77   A3Q12RK71N74LB                       Book Reader               7/11   \n",
       "79    AUR0VA5H0C66C  LoveToRead \"Actually Read Books\"                1/2   \n",
       "90    A1P2KGE2Z8RTA                      C. Robertson                0/0   \n",
       "100  A3OS2QHEH495TD                                PW                5/5   \n",
       "101  A3S5YQQWBO0LGI                            N. Ray                4/4   \n",
       "\n",
       "     review/score review/time        review/summary  \\\n",
       "77            1.0  1117065600              not good   \n",
       "79            1.0  1119225600          Buyer beware   \n",
       "90            1.0  1119916800            The Worst!   \n",
       "100           1.0  1115856000             Oh please   \n",
       "101           1.0  1119571200  Awful beyond belief!   \n",
       "\n",
       "                                           review/text  \n",
       "77   I bought this book because I read some glowing...  \n",
       "79   This is a self-published book, and if you want...  \n",
       "90   A complete waste of time. Typographical errors...  \n",
       "100  I guess you have to be a romance novel lover f...  \n",
       "101  I feel I have to write to keep others from was...  "
      ]
     },
     "execution_count": 54,
     "metadata": {},
     "output_type": "execute_result"
    }
   ],
   "source": [
    "df_neg.head()"
   ]
  },
  {
   "cell_type": "code",
   "execution_count": 55,
   "metadata": {},
   "outputs": [],
   "source": [
    "df_neg.to_csv('data/amazon_negative.csv')\n",
    "df_pos.to_csv('data/amazon_positive.csv')"
   ]
  },
  {
   "cell_type": "code",
   "execution_count": null,
   "metadata": {},
   "outputs": [],
   "source": []
  }
 ],
 "metadata": {
  "kernelspec": {
   "display_name": "Python 3",
   "language": "python",
   "name": "python3"
  },
  "language_info": {
   "codemirror_mode": {
    "name": "ipython",
    "version": 3
   },
   "file_extension": ".py",
   "mimetype": "text/x-python",
   "name": "python",
   "nbconvert_exporter": "python",
   "pygments_lexer": "ipython3",
   "version": "3.8.5"
  }
 },
 "nbformat": 4,
 "nbformat_minor": 4
}
